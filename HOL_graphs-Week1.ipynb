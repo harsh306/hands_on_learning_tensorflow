{
 "cells": [
  {
   "cell_type": "markdown",
   "metadata": {},
   "source": [
    "## GRAPHS\n"
   ]
  },
  {
   "cell_type": "code",
   "execution_count": 2,
   "metadata": {},
   "outputs": [],
   "source": [
    "import tensorflow as tf\n",
    "import numpy as np"
   ]
  },
  {
   "cell_type": "code",
   "execution_count": 5,
   "metadata": {},
   "outputs": [
    {
     "name": "stdout",
     "output_type": "stream",
     "text": [
      "6 5 -1\n"
     ]
    }
   ],
   "source": [
    "### initialize graph\n",
    "g = tf.Graph()\n",
    "\n",
    "with g.as_default():\n",
    "    # Define inputs with name\n",
    "    # name is for constants and variables\n",
    "    a = tf.constant(value=2, dtype=tf.int32, name=\"a\")\n",
    "    b = tf.constant(value=3, dtype=tf.int32, name=\"b\")\n",
    "    \n",
    "    #scope should be defined for opertions \n",
    "    with tf.name_scope(\"ops\"):\n",
    "        c = tf.multiply(a,b, name='c')\n",
    "        d = tf.add(a,b,name='d')\n",
    "        e = tf.subtract(a,b, name='e')\n",
    "        \n",
    "\n",
    "with tf.Session(graph=g) as sess:\n",
    "    print(sess.run(c), sess.run(d), sess.run(e))\n",
    "    "
   ]
  },
  {
   "cell_type": "code",
   "execution_count": 6,
   "metadata": {},
   "outputs": [],
   "source": [
    "tf.reset_default_graph()"
   ]
  },
  {
   "cell_type": "code",
   "execution_count": 10,
   "metadata": {},
   "outputs": [],
   "source": [
    "a = tf.Variable(tf.random_uniform([]))\n",
    "b_pl = tf.placeholder(dtype=tf.float32, shape=[None])\n",
    "\n",
    "#ops\n",
    "c = a* b_pl\n",
    "d  = a+b_pl\n",
    "e = tf.reduce_sum(c)\n",
    "f = tf.reduce_mean(d)\n",
    "g = e - f\n",
    "\n",
    "init = tf.global_variables_initializer()"
   ]
  },
  {
   "cell_type": "code",
   "execution_count": 11,
   "metadata": {},
   "outputs": [],
   "source": [
    "update_op = tf.assign(a, a+g)"
   ]
  },
  {
   "cell_type": "code",
   "execution_count": 15,
   "metadata": {},
   "outputs": [],
   "source": [
    "writer = tf.summary.FileWriter(logdir='asset')"
   ]
  },
  {
   "cell_type": "code",
   "execution_count": 19,
   "metadata": {},
   "outputs": [],
   "source": [
    "tf.summary.scalar(name='a', tensor=a)\n",
    "tf.summary.histogram(name='c', values=c)\n",
    "tf.summary.histogram(name='d', values=d)\n",
    "summaries = tf.summary.merge_all()\n"
   ]
  },
  {
   "cell_type": "code",
   "execution_count": 22,
   "metadata": {},
   "outputs": [],
   "source": [
    "with tf.Session() as sess:\n",
    "    sess.run(init)\n",
    "    for step in range(5):\n",
    "        b_ = np.arange(10,dtype=np.float32)\n",
    "        _, summaries_proto = sess.run([update_op, summaries], feed_dict= {b_pl:b_})\n",
    "        \n",
    "        writer.add_summary(summaries_proto, global_step=step)\n",
    "sess.close()"
   ]
  },
  {
   "cell_type": "markdown",
   "metadata": {},
   "source": [
    "### $tensorboard --logdir=[path_to_filewriter]/asset/"
   ]
  },
  {
   "cell_type": "code",
   "execution_count": null,
   "metadata": {},
   "outputs": [],
   "source": []
  }
 ],
 "metadata": {
  "kernelspec": {
   "display_name": "Python 3",
   "language": "python",
   "name": "python3"
  },
  "language_info": {
   "codemirror_mode": {
    "name": "ipython",
    "version": 3
   },
   "file_extension": ".py",
   "mimetype": "text/x-python",
   "name": "python",
   "nbconvert_exporter": "python",
   "pygments_lexer": "ipython3",
   "version": "3.6.4"
  }
 },
 "nbformat": 4,
 "nbformat_minor": 2
}
