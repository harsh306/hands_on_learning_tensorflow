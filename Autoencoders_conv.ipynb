{
 "cells": [
  {
   "cell_type": "code",
   "execution_count": 1,
   "metadata": {},
   "outputs": [],
   "source": [
    "%matplotlib inline\n",
    "\n",
    "import numpy as np\n",
    "import tensorflow as tf\n",
    "import matplotlib.pyplot as plt"
   ]
  },
  {
   "cell_type": "code",
   "execution_count": 3,
   "metadata": {},
   "outputs": [
    {
     "name": "stderr",
     "output_type": "stream",
     "text": [
      "/Users/hpathak/anaconda3/lib/python3.6/site-packages/h5py/__init__.py:36: FutureWarning: Conversion of the second argument of issubdtype from `float` to `np.floating` is deprecated. In future, it will be treated as `np.float64 == np.dtype(float).type`.\n",
      "  from ._conv import register_converters as _register_converters\n"
     ]
    },
    {
     "name": "stdout",
     "output_type": "stream",
     "text": [
      "Extracting MNIST_data/train-images-idx3-ubyte.gz\n",
      "Extracting MNIST_data/train-labels-idx1-ubyte.gz\n",
      "Extracting MNIST_data/t10k-images-idx3-ubyte.gz\n",
      "Extracting MNIST_data/t10k-labels-idx1-ubyte.gz\n"
     ]
    }
   ],
   "source": [
    "from tensorflow.examples.tutorials.mnist import input_data\n",
    "mnist = input_data.read_data_sets('MNIST_data', validation_size=0)"
   ]
  },
  {
   "cell_type": "code",
   "execution_count": 132,
   "metadata": {},
   "outputs": [],
   "source": [
    "epochs =1 #change the number\n",
    "batch_size=200\n",
    "learning_rate = 0.001\n",
    "pr_type = 32\n",
    "max_pool = True\n",
    "if pr_type == 32:\n",
    "    dType = tf.float32\n",
    "else:\n",
    "    dType = tf.float16"
   ]
  },
  {
   "cell_type": "code",
   "execution_count": 133,
   "metadata": {},
   "outputs": [],
   "source": [
    "\n",
    "tf.reset_default_graph()\n",
    "g1 = tf.Graph()\n",
    "\n",
    "with g1.as_default():\n",
    "    # Input and target placeholders\n",
    "    inputs_ = tf.placeholder(dtype=dType, shape=(None, 28,28,1), name= 'inputs')\n",
    "    targets_ = tf.placeholder(dtype=dType, shape=(None, 28,28,1) , name='targets')\n",
    "\n",
    "\n",
    "    w1 = tf.get_variable(name='W1',shape=[3,3,1,16],dtype=dType,initializer=tf.contrib.layers.xavier_initializer())    \n",
    "    w2 = tf.get_variable(name='W2',shape=[3,3,16,8],dtype=dType,initializer=tf.contrib.layers.xavier_initializer())    \n",
    "    w3 = tf.get_variable(name='W3',shape=[3,3,8,8],dtype=dType,initializer=tf.contrib.layers.xavier_initializer())    \n",
    "    w4 = tf.get_variable(name='W4',shape=[3,3,8,8],dtype=dType,initializer=tf.contrib.layers.xavier_initializer())    \n",
    "    w5 = tf.get_variable(name='W5',shape=[3,3,8,8],dtype=dType,initializer=tf.contrib.layers.xavier_initializer())    \n",
    "    w6 = tf.get_variable(name='W6',shape=[3,3,8,16],dtype=dType,initializer=tf.contrib.layers.xavier_initializer()) \n",
    "    logit_w = tf.get_variable(name='logit_w',shape=[3,3,16,1],dtype=dType,initializer=tf.contrib.layers.xavier_initializer())    \n",
    "\n",
    "\n",
    "\n",
    "\n",
    "\n",
    "    conv1 = tf.nn.conv2d(input=inputs_,filter=w1,strides=[1,2,2,1], padding='SAME', name='conv1')\n",
    "    conv1 = tf.nn.relu(conv1)\n",
    "    \n",
    "\n",
    "\n",
    "    max_pool1 = tf.nn.max_pool(value=conv1,ksize=[1,2,2,1], strides=[1,2,2,1],padding='SAME', name='maxpool1')\n",
    "    conv2 = tf.nn.conv2d(input=max_pool1, filter=w2, strides=[1,2,2,1], padding='SAME', name='conv2')\n",
    "    conv2 = tf.nn.relu(conv2)\n",
    "    \n",
    "    max_pool2 = tf.nn.max_pool(value=conv2,ksize=[1,2,2,1], strides=[1,2,2,1],padding='SAME', name='maxpool2')\n",
    "    conv3 = tf.nn.conv2d(input=max_pool2, filter=w3, strides=[1,2,2,1], padding='SAME', name='conv3')\n",
    "    conv3 = tf.nn.relu(conv3)\n",
    "\n",
    "    encoded = tf.nn.max_pool(value=conv3, ksize=[1,2,2,1],strides=[1,2,2,1],padding='SAME',name='encoded')\n",
    "\n",
    "\n",
    "    upsample1 = tf.image.resize_nearest_neighbor(encoded, size=(7,7), name='upsample1')\n",
    "    conv4 = tf.nn.conv2d(input=upsample1, filter=w4,strides=[1,1,1,1] ,  padding='SAME', name='conv4')\n",
    "    conv4 = tf.nn.relu(conv4)\n",
    "\n",
    "    upsample2 = tf.image.resize_nearest_neighbor(conv4, size=(14,14), name='upsample2')\n",
    "    conv5 = tf.nn.conv2d(input=upsample2, filter=w5,strides=[1,1,1,1], padding='SAME', name = 'conv5')\n",
    "    conv5 = tf.nn.relu(conv5)\n",
    "\n",
    "    upsample3 = tf.image.resize_nearest_neighbor(conv5, size=(28,28), name='upsample3')\n",
    "    conv6 = tf.nn.conv2d(input=upsample3, filter=w6, strides=[1,1,1,1], padding='SAME', name='conv5')\n",
    "    conv6 = tf.nn.relu(conv6)\n",
    "\n",
    "    logits = tf.nn.conv2d(input=conv6, filter=logit_w,strides=[1,1,1,1] ,padding='SAME')\n",
    "\n",
    "    decoded = tf.nn.sigmoid(logits,name='decoded')\n",
    "\n",
    "    loss = tf.nn.sigmoid_cross_entropy_with_logits(labels=targets_, logits=logits)\n",
    "    cost = tf.reduce_mean(loss)\n",
    "    opt = tf.train.AdamOptimizer(learning_rate).minimize(cost)\n",
    "    init = tf.global_variables_initializer()\n",
    "\n"
   ]
  },
  {
   "cell_type": "code",
   "execution_count": 134,
   "metadata": {},
   "outputs": [],
   "source": [
    "tf.reset_default_graph()\n",
    "sess = tf.Session(graph=g1)"
   ]
  },
  {
   "cell_type": "code",
   "execution_count": 135,
   "metadata": {},
   "outputs": [
    {
     "name": "stdout",
     "output_type": "stream",
     "text": [
      "Epoch: 1/1... Training loss: 0.6831\n",
      "Epoch: 1/1... Training loss: 0.5065\n",
      "Epoch: 1/1... Training loss: 0.4330\n",
      "Epoch: 1/1... Training loss: 0.3244\n",
      "Epoch: 1/1... Training loss: 0.2886\n",
      "Epoch: 1/1... Training loss: 0.2712\n",
      "Epoch: 1/1... Training loss: 0.2690\n",
      "Epoch: 1/1... Training loss: 0.2669\n",
      "Epoch: 1/1... Training loss: 0.2721\n",
      "Epoch: 1/1... Training loss: 0.2610\n",
      "Epoch: 1/1... Training loss: 0.2676\n",
      "Epoch: 1/1... Training loss: 0.2593\n",
      "Epoch: 1/1... Training loss: 0.2516\n",
      "Epoch: 1/1... Training loss: 0.2620\n",
      "Epoch: 1/1... Training loss: 0.2601\n",
      "CPU times: user 2min 43s, sys: 1min 55s, total: 4min 39s\n",
      "Wall time: 1min 11s\n"
     ]
    }
   ],
   "source": [
    "%%time\n",
    "\n",
    "\n",
    "sess.run(init)\n",
    "for e in range(epochs):\n",
    "    for ii in range(mnist.train.num_examples//batch_size):\n",
    "        batch = mnist.train.next_batch(batch_size)\n",
    "        imgs = batch[0].reshape((-1, 28, 28, 1))\n",
    "        batch_cost, _ = sess.run([cost, opt], feed_dict={inputs_: imgs,\n",
    "                                                         targets_: imgs})\n",
    "        if (ii % 20) ==0 :\n",
    "            print(\"Epoch: {}/{}...\".format(e+1, epochs),\n",
    "              \"Training loss: {:.4f}\".format(batch_cost))"
   ]
  },
  {
   "cell_type": "code",
   "execution_count": 136,
   "metadata": {},
   "outputs": [
    {
     "data": {
      "image/png": "[encoded data removed]",
      "text/plain": [
       "<matplotlib.figure.Figure at 0x1a2e134b70>"
      ]
     },
     "metadata": {},
     "output_type": "display_data"
    }
   ],
   "source": [
    "\n",
    "fig, axes = plt.subplots(nrows=2, ncols=10, sharex=True, sharey=True, figsize=(20,4))\n",
    "in_imgs = mnist.test.images[:10]\n",
    "reconstructed = sess.run(decoded, feed_dict={inputs_: in_imgs.reshape((10, 28, 28, 1))})\n",
    "\n",
    "for images, row in zip([in_imgs, reconstructed], axes):\n",
    "    for img, ax in zip(images, row):\n",
    "        ax.imshow(img.reshape((28, 28)), cmap='Greys_r')\n",
    "        ax.get_xaxis().set_visible(False)\n",
    "        ax.get_yaxis().set_visible(False)\n",
    "\n",
    "\n",
    "fig.tight_layout(pad=0.1)"
   ]
  },
  {
   "cell_type": "code",
   "execution_count": 122,
   "metadata": {},
   "outputs": [],
   "source": [
    "def get_normed_weights(shape, axis=None, name=None, return_all=True,\n",
    "                       reuse=None,\n",
    "                       init=tf.random_normal_initializer(stddev=0.05)):\n",
    "    \"\"\"\n",
    "    Returns a normalised tensor of the given shape.\n",
    "    Args:\n",
    "      shape: the shape of the desired weights. At the moment we assume\n",
    "        this is [num_inputs x num_outputs] and we have a gain/scale per\n",
    "        output.\n",
    "      axis: the axis or axes over which to normalise. If None (default), then\n",
    "        each element is divided by the norm of the entire tensor.\n",
    "      scope: scope in which to get the variables required. Defaults to None,\n",
    "        which means `weightnorm` will be used.\n",
    "      return_all: if true, returns the allocated trainable variable as well as\n",
    "        the resulting weights.\n",
    "      reuse: whether or not to attempt to reuse variables. Default is False.\n",
    "      init: the initializer to use to initialise the variables. Defaults to the\n",
    "        values from the paper, ie. normally distributed with mean 0 and\n",
    "        standard deviation 0.05.\n",
    "    Returns:\n",
    "      - if `return_all` is true it will return `(w, g, v)` where `w` is the\n",
    "          required weights, `g` and `v` are the scale and the unnormalised\n",
    "          weights respectively.\n",
    "      - otherwise, just return `w`.\n",
    "    \"\"\"\n",
    "    v = tf.get_variable(name=name, shape=shape, dtype=tf.float32, initializer=init)\n",
    "    g = tf.get_variable(name=name+'g', shape=shape[-1], initializer=tf.constant_initializer(1),trainable=False)\n",
    "    \n",
    "    inv_norm = tf.rsqrt(tf.reduce_sum(tf.square(v), reduction_indices=axis))\n",
    "    w = v * g * inv_norm\n",
    "    return w\n"
   ]
  },
  {
   "cell_type": "code",
   "execution_count": null,
   "metadata": {},
   "outputs": [],
   "source": []
  },
  {
   "cell_type": "markdown",
   "metadata": {},
   "source": [
    "### Weight Normalized Auto encoder"
   ]
  },
  {
   "cell_type": "code",
   "execution_count": 126,
   "metadata": {},
   "outputs": [],
   "source": [
    "learning_rate = 0.001\n",
    "pr_type = 32\n",
    "max_pool = True\n",
    "\n",
    "if pr_type == 32:\n",
    "    dType = tf.float32\n",
    "else:\n",
    "    dType = tf.float16\n",
    "\n",
    "tf.reset_default_graph()\n",
    "g2 = tf.Graph()\n",
    "\n",
    "\n",
    "with g2.as_default():\n",
    "    # Input and target placeholders\n",
    "    inputs_ = tf.placeholder(dtype=dType, shape=(None, 28,28,1), name= 'inputs')\n",
    "    targets_ = tf.placeholder(dtype=dType, shape=(None, 28,28,1) , name='targets')\n",
    "\n",
    "\n",
    "    #w1 = tf.get_variable(name='W1',shape=,dtype=dType,initializer=tf.contrib.layers.xavier_initializer())    \n",
    "    w1 = get_normed_weights(shape=[3,3,1,16], axis=[0,1,2],name='W1', init=tf.contrib.layers.xavier_initializer())\n",
    "    \n",
    "    #w2 = tf.get_variable(name='W2',shape=[3,3,16,8],dtype=dType,)    \n",
    "    w2 = get_normed_weights(shape=[3,3,16,8], axis=[0,1,2],name='W2', init=tf.contrib.layers.xavier_initializer())\n",
    "    \n",
    "    #w3 = tf.get_variable(name='W3',shape=[3,3,8,8],dtype=dType,initializer=tf.contrib.layers.xavier_initializer())    \n",
    "    w3 = get_normed_weights(shape=[3,3,8,8], axis=[0,1,2],name='W3', init=tf.contrib.layers.xavier_initializer())\n",
    "    \n",
    "    #w4 = tf.get_variable(name='W4',shape=[3,3,8,8],dtype=dType,initializer=tf.contrib.layers.xavier_initializer())    \n",
    "    w4 = get_normed_weights(shape=[3,3,8,8], axis=[0,1,2],name='W4', init=tf.contrib.layers.xavier_initializer())\n",
    "    \n",
    "    #w5 = tf.get_variable(name='W5',shape=[3,3,8,8],dtype=dType,initializer=tf.contrib.layers.xavier_initializer())    \n",
    "    w5 = get_normed_weights(shape=[3,3,8,8], axis=[0,1,2],name='W5', init=tf.contrib.layers.xavier_initializer())\n",
    "    \n",
    "    #w6 = tf.get_variable(name='W6',shape=[3,3,8,16],dtype=dType,initializer=tf.contrib.layers.xavier_initializer()) \n",
    "    w6 = get_normed_weights(shape=[3,3,8,16], axis=[0,1,2],name='W6', init=tf.contrib.layers.xavier_initializer())\n",
    "    \n",
    "    logit_w = tf.get_variable(name='logit_w',shape=[3,3,16,1],dtype=dType,initializer=tf.contrib.layers.xavier_initializer())    \n",
    "\n",
    "\n",
    "\n",
    "\n",
    "\n",
    "    conv1 = tf.nn.conv2d(input=inputs_,filter=w1,strides=[1,2,2,1], padding='SAME', name='conv1')\n",
    "    conv1 = tf.nn.relu(conv1)\n",
    "    \n",
    "\n",
    "\n",
    "    max_pool1 = tf.nn.max_pool(value=conv1,ksize=[1,2,2,1], strides=[1,2,2,1],padding='SAME', name='maxpool1')\n",
    "    conv2 = tf.nn.conv2d(input=max_pool1, filter=w2, strides=[1,2,2,1], padding='SAME', name='conv2')\n",
    "    conv2 = tf.nn.relu(conv2)\n",
    "    \n",
    "    max_pool2 = tf.nn.max_pool(value=conv2,ksize=[1,2,2,1], strides=[1,2,2,1],padding='SAME', name='maxpool2')\n",
    "    conv3 = tf.nn.conv2d(input=max_pool2, filter=w3, strides=[1,2,2,1], padding='SAME', name='conv3')\n",
    "    conv3 = tf.nn.relu(conv3)\n",
    "\n",
    "    encoded = tf.nn.max_pool(value=conv3, ksize=[1,2,2,1],strides=[1,2,2,1],padding='SAME',name='encoded')\n",
    "\n",
    "\n",
    "    upsample1 = tf.image.resize_nearest_neighbor(encoded, size=(7,7), name='upsample1')\n",
    "    conv4 = tf.nn.conv2d(input=upsample1, filter=w4,strides=[1,1,1,1] ,  padding='SAME', name='conv4')\n",
    "    conv4 = tf.nn.relu(conv4)\n",
    "\n",
    "    upsample2 = tf.image.resize_nearest_neighbor(conv4, size=(14,14), name='upsample2')\n",
    "    conv5 = tf.nn.conv2d(input=upsample2, filter=w5,strides=[1,1,1,1], padding='SAME', name = 'conv5')\n",
    "    conv5 = tf.nn.relu(conv5)\n",
    "\n",
    "    upsample3 = tf.image.resize_nearest_neighbor(conv5, size=(28,28), name='upsample3')\n",
    "    conv6 = tf.nn.conv2d(input=upsample3, filter=w6, strides=[1,1,1,1], padding='SAME', name='conv5')\n",
    "    conv6 = tf.nn.relu(conv6)\n",
    "\n",
    "    logits = tf.nn.conv2d(input=conv6, filter=logit_w,strides=[1,1,1,1] ,padding='SAME')\n",
    "\n",
    "    decoded = tf.nn.sigmoid(logits,name='decoded')\n",
    "\n",
    "    loss = tf.nn.sigmoid_cross_entropy_with_logits(labels=targets_, logits=logits)\n",
    "    cost = tf.reduce_mean(loss)\n",
    "    opt = tf.train.AdamOptimizer(learning_rate).minimize(cost)\n",
    "    init = tf.global_variables_initializer()\n",
    "\n",
    "\n"
   ]
  },
  {
   "cell_type": "code",
   "execution_count": 127,
   "metadata": {},
   "outputs": [],
   "source": [
    "tf.reset_default_graph()\n",
    "sess = tf.Session(graph=g2)"
   ]
  },
  {
   "cell_type": "code",
   "execution_count": 128,
   "metadata": {},
   "outputs": [
    {
     "name": "stdout",
     "output_type": "stream",
     "text": [
      "Epoch: 1/5... Training loss: 0.6846\n",
      "Epoch: 1/5... Training loss: 0.4735\n",
      "Epoch: 1/5... Training loss: 0.3595\n",
      "Epoch: 1/5... Training loss: 0.3010\n",
      "Epoch: 1/5... Training loss: 0.2806\n",
      "Epoch: 1/5... Training loss: 0.2763\n",
      "Epoch: 1/5... Training loss: 0.2663\n",
      "Epoch: 1/5... Training loss: 0.2637\n",
      "Epoch: 1/5... Training loss: 0.2617\n",
      "Epoch: 1/5... Training loss: 0.2575\n",
      "Epoch: 1/5... Training loss: 0.2615\n",
      "Epoch: 1/5... Training loss: 0.2581\n",
      "Epoch: 1/5... Training loss: 0.2552\n",
      "Epoch: 1/5... Training loss: 0.2606\n",
      "Epoch: 1/5... Training loss: 0.2498\n",
      "Epoch: 2/5... Training loss: 0.2520\n",
      "Epoch: 2/5... Training loss: 0.2480\n",
      "Epoch: 2/5... Training loss: 0.2512\n",
      "Epoch: 2/5... Training loss: 0.2473\n",
      "Epoch: 2/5... Training loss: 0.2553\n",
      "Epoch: 2/5... Training loss: 0.2492\n",
      "Epoch: 2/5... Training loss: 0.2430\n",
      "Epoch: 2/5... Training loss: 0.2479\n",
      "Epoch: 2/5... Training loss: 0.2536\n",
      "Epoch: 2/5... Training loss: 0.2462\n",
      "Epoch: 2/5... Training loss: 0.2441\n",
      "Epoch: 2/5... Training loss: 0.2437\n",
      "Epoch: 2/5... Training loss: 0.2446\n",
      "Epoch: 2/5... Training loss: 0.2442\n",
      "Epoch: 2/5... Training loss: 0.2477\n",
      "Epoch: 3/5... Training loss: 0.2460\n",
      "Epoch: 3/5... Training loss: 0.2469\n",
      "Epoch: 3/5... Training loss: 0.2427\n",
      "Epoch: 3/5... Training loss: 0.2462\n",
      "Epoch: 3/5... Training loss: 0.2488\n",
      "Epoch: 3/5... Training loss: 0.2443\n",
      "Epoch: 3/5... Training loss: 0.2449\n",
      "Epoch: 3/5... Training loss: 0.2461\n",
      "Epoch: 3/5... Training loss: 0.2387\n",
      "Epoch: 3/5... Training loss: 0.2417\n",
      "Epoch: 3/5... Training loss: 0.2393\n",
      "Epoch: 3/5... Training loss: 0.2411\n",
      "Epoch: 3/5... Training loss: 0.2419\n",
      "Epoch: 3/5... Training loss: 0.2463\n",
      "Epoch: 3/5... Training loss: 0.2385\n",
      "Epoch: 4/5... Training loss: 0.2369\n",
      "Epoch: 4/5... Training loss: 0.2439\n",
      "Epoch: 4/5... Training loss: 0.2371\n",
      "Epoch: 4/5... Training loss: 0.2406\n",
      "Epoch: 4/5... Training loss: 0.2410\n",
      "Epoch: 4/5... Training loss: 0.2380\n",
      "Epoch: 4/5... Training loss: 0.2390\n",
      "Epoch: 4/5... Training loss: 0.2362\n",
      "Epoch: 4/5... Training loss: 0.2385\n",
      "Epoch: 4/5... Training loss: 0.2405\n",
      "Epoch: 4/5... Training loss: 0.2355\n",
      "Epoch: 4/5... Training loss: 0.2343\n",
      "Epoch: 4/5... Training loss: 0.2405\n",
      "Epoch: 4/5... Training loss: 0.2372\n",
      "Epoch: 4/5... Training loss: 0.2353\n",
      "Epoch: 5/5... Training loss: 0.2330\n",
      "Epoch: 5/5... Training loss: 0.2356\n",
      "Epoch: 5/5... Training loss: 0.2332\n",
      "Epoch: 5/5... Training loss: 0.2349\n",
      "Epoch: 5/5... Training loss: 0.2322\n",
      "Epoch: 5/5... Training loss: 0.2352\n",
      "Epoch: 5/5... Training loss: 0.2296\n",
      "Epoch: 5/5... Training loss: 0.2326\n",
      "Epoch: 5/5... Training loss: 0.2349\n",
      "Epoch: 5/5... Training loss: 0.2304\n",
      "Epoch: 5/5... Training loss: 0.2348\n",
      "Epoch: 5/5... Training loss: 0.2324\n",
      "Epoch: 5/5... Training loss: 0.2309\n",
      "Epoch: 5/5... Training loss: 0.2330\n",
      "Epoch: 5/5... Training loss: 0.2351\n",
      "CPU times: user 13min 52s, sys: 9min 45s, total: 23min 37s\n",
      "Wall time: 5min 55s\n"
     ]
    }
   ],
   "source": [
    "%%time\n",
    "\n",
    "epochs =5\n",
    "batch_size=200\n",
    "sess.run(init)\n",
    "for e in range(epochs):\n",
    "    for ii in range(mnist.train.num_examples//batch_size):\n",
    "        batch = mnist.train.next_batch(batch_size)\n",
    "        imgs = batch[0].reshape((-1, 28, 28, 1))\n",
    "        batch_cost, _ = sess.run([cost, opt], feed_dict={inputs_: imgs,\n",
    "                                                         targets_: imgs})\n",
    "        if (ii % 20) ==0 :\n",
    "            print(\"Epoch: {}/{}...\".format(e+1, epochs),\n",
    "              \"Training loss: {:.4f}\".format(batch_cost))"
   ]
  },
  {
   "cell_type": "code",
   "execution_count": 129,
   "metadata": {},
   "outputs": [
    {
     "data": {
      "image/png": "[encoded data removed]",
      "text/plain": [
       "<matplotlib.figure.Figure at 0x1a27717128>"
      ]
     },
     "metadata": {},
     "output_type": "display_data"
    }
   ],
   "source": [
    "\n",
    "fig, axes = plt.subplots(nrows=2, ncols=10, sharex=True, sharey=True, figsize=(20,4))\n",
    "in_imgs = mnist.test.images[:10]\n",
    "reconstructed = sess.run(decoded, feed_dict={inputs_: in_imgs.reshape((10, 28, 28, 1))})\n",
    "\n",
    "for images, row in zip([in_imgs, reconstructed], axes):\n",
    "    for img, ax in zip(images, row):\n",
    "        ax.imshow(img.reshape((28, 28)), cmap='Greys_r')\n",
    "        ax.get_xaxis().set_visible(False)\n",
    "        ax.get_yaxis().set_visible(False)\n",
    "\n",
    "\n",
    "fig.tight_layout(pad=0.1)"
   ]
  },
  {
   "cell_type": "code",
   "execution_count": null,
   "metadata": {},
   "outputs": [],
   "source": []
  },
  {
   "cell_type": "markdown",
   "metadata": {},
   "source": [
    "### Benchmarking\n",
    "\n",
    "| Initializer | optimizer |presion type | epochs | Wall time | loss | Norm\n",
    "|---|---|---|---|\n",
    "|xavier|ADAM|float32|5 epochs|5.50 mins| 0.2372 | No\n",
    "|xavier|ADAM|float32|5 epochs|5.55 mins| 0.2350 | weight\n",
    "\n"
   ]
  }
 ],
 "metadata": {
  "kernelspec": {
   "display_name": "Python 3",
   "language": "python",
   "name": "python3"
  },
  "language_info": {
   "codemirror_mode": {
    "name": "ipython",
    "version": 3
   },
   "file_extension": ".py",
   "mimetype": "text/x-python",
   "name": "python",
   "nbconvert_exporter": "python",
   "pygments_lexer": "ipython3",
   "version": "3.6.4"
  }
 },
 "nbformat": 4,
 "nbformat_minor": 2
}
